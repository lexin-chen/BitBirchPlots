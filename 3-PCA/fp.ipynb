{
 "cells": [
  {
   "cell_type": "code",
   "execution_count": null,
   "metadata": {},
   "outputs": [
    {
     "ename": "",
     "evalue": "",
     "output_type": "error",
     "traceback": [
      "\u001b[1;31mRunning cells with 'westpa2 (Python 3.11.9)' requires the ipykernel package.\n",
      "\u001b[1;31mRun the following command to install 'ipykernel' into the Python environment. \n",
      "\u001b[1;31mCommand: 'conda install -n westpa2 ipykernel --update-deps --force-reinstall'"
     ]
    }
   ],
   "source": [
    "import numpy as np\n",
    "from rdkit import Chem\n",
    "from rdkit.Chem import Draw\n",
    "from rdkit.Chem import DataStructs\n",
    "\n",
    "fps = np.load('../data/chembl_33_np.npy', mmap_mode='r')\n",
    "fingerprint_memmap = fps[2]"
   ]
  },
  {
   "cell_type": "code",
   "execution_count": 19,
   "metadata": {},
   "outputs": [
    {
     "name": "stdout",
     "output_type": "stream",
     "text": [
      "<rdkit.DataStructs.cDataStructs.ExplicitBitVect object at 0x14d1eb01d8f0>\n"
     ]
    },
    {
     "ename": "AttributeError",
     "evalue": "module 'rdkit.Chem' has no attribute 'MolFromBitVect'",
     "output_type": "error",
     "traceback": [
      "\u001b[0;31m---------------------------------------------------------------------------\u001b[0m",
      "\u001b[0;31mAttributeError\u001b[0m                            Traceback (most recent call last)",
      "Cell \u001b[0;32mIn[19], line 7\u001b[0m\n\u001b[1;32m      4\u001b[0m \u001b[38;5;28mprint\u001b[39m(fingerprint)\n\u001b[1;32m      6\u001b[0m \u001b[38;5;66;03m# Convert ExplicitBitVect to a molecule\u001b[39;00m\n\u001b[0;32m----> 7\u001b[0m molecule \u001b[38;5;241m=\u001b[39m \u001b[43mChem\u001b[49m\u001b[38;5;241;43m.\u001b[39;49m\u001b[43mMolFromBitVect\u001b[49m(fingerprint)\n\u001b[1;32m      8\u001b[0m \u001b[38;5;28;01mif\u001b[39;00m molecule:\n\u001b[1;32m      9\u001b[0m     \u001b[38;5;66;03m# Draw the molecule\u001b[39;00m\n\u001b[1;32m     10\u001b[0m     img \u001b[38;5;241m=\u001b[39m Draw\u001b[38;5;241m.\u001b[39mMolToImage(molecule, size\u001b[38;5;241m=\u001b[39m(\u001b[38;5;241m300\u001b[39m, \u001b[38;5;241m300\u001b[39m))\n",
      "\u001b[0;31mAttributeError\u001b[0m: module 'rdkit.Chem' has no attribute 'MolFromBitVect'"
     ]
    }
   ],
   "source": [
    "# Convert numpy array to an ExplicitBitVect\n",
    "num_bits = len(fingerprint_memmap) * 8  # assuming each byte is 8 bits\n",
    "fingerprint = DataStructs.ExplicitBitVect(num_bits)\n",
    "print(fingerprint)\n",
    "\n",
    "# Convert ExplicitBitVect to a molecule\n",
    "molecule = Chem.MolFromBitVect(fingerprint)\n",
    "if molecule:\n",
    "    # Draw the molecule\n",
    "    img = Draw.MolToImage(molecule, size=(300, 300))\n",
    "    img.show()\n",
    "else:\n",
    "    print(\"Unable to convert fingerprint to a molecule.\")"
   ]
  }
 ],
 "metadata": {
  "kernelspec": {
   "display_name": ".venv",
   "language": "python",
   "name": "python3"
  },
  "language_info": {
   "codemirror_mode": {
    "name": "ipython",
    "version": 3
   },
   "file_extension": ".py",
   "mimetype": "text/x-python",
   "name": "python",
   "nbconvert_exporter": "python",
   "pygments_lexer": "ipython3",
   "version": "3.11.9"
  }
 },
 "nbformat": 4,
 "nbformat_minor": 2
}
